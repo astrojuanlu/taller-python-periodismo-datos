{
 "cells": [
  {
   "cell_type": "markdown",
   "id": "3852af11",
   "metadata": {
    "slideshow": {
     "slide_type": "slide"
    }
   },
   "source": [
    "# Taller de Tratamiento de Datos con Python\n",
    "\n",
    "## Autor: Juan Luis Cano Rodríguez <hello@juanlu.space>\n",
    "\n",
    "## 2022-03-04 MPVD UAH"
   ]
  },
  {
   "cell_type": "markdown",
   "id": "06a42a67",
   "metadata": {
    "slideshow": {
     "slide_type": "slide"
    }
   },
   "source": [
    "# Índice\n",
    "\n",
    "1. Introducción\n",
    "2. Lectura y limpieza de datos\n",
    "3. Análisis exploratorio básico\n",
    "4. Expresiones regulares para búsqueda de texto\n",
    "5. Visualización de series temporales"
   ]
  },
  {
   "cell_type": "markdown",
   "id": "573ebaa1",
   "metadata": {
    "slideshow": {
     "slide_type": "slide"
    }
   },
   "source": [
    "# ¿Quién soy yo?\n",
    "\n",
    "![Juanlu @ UIS](img/juanl-uis.jpg)\n",
    "\n",
    "* **Ingeniero Aeronáutico** y pythonista autodidacta de Madrid, España 🇪🇸\n",
    "* **Defensor del Data Scientist** (_Data Scientist Advocate_) en **Orchest** 🥑\n",
    "* **Socio fundador y ex-presidente** de la Asociación Python España y organizador de PyConES por 7 años 🐍\n",
    "* **Colaborador** en proyectos de Python Científico: NumPy, SciPy, conda, astropy, poliastro, memory-profiler...\n",
    "* **Profesor asociado** en **IE** y **ESADE** de Python para Big Data\n",
    "* Amante del código abierto y el hard rock 🤘\n",
    "\n",
    "Encantado de conectar en LinkedIn: https://www.linkedin.com/in/juanluiscanor/"
   ]
  },
  {
   "cell_type": "markdown",
   "id": "a7b6c074",
   "metadata": {
    "slideshow": {
     "slide_type": "slide"
    }
   },
   "source": [
    "## Qué vamos a ver:\n",
    "\n",
    "- Cómo leer datos a partir de CSV\n",
    "- La cruda realidad: limpiar los datos\n",
    "- Análisis exploratorio básico: ¿qué datos tenemos?\n",
    "- Expresiones regulares para búsqueda de texto\n",
    "- Visualización de series temporales\n",
    "- Cómo enfrentarse a un ~~folio~~ notebook en blanco"
   ]
  },
  {
   "cell_type": "markdown",
   "id": "59ee91f8",
   "metadata": {
    "slideshow": {
     "slide_type": "subslide"
    }
   },
   "source": [
    "## Qué _no_ vamos a ver:\n",
    "\n",
    "- De dónde extraemos los datos (eso formó parte del Módulo 5)\n",
    "- Estadística (eso será el Módulo 7)\n",
    "- Visualización avanzada (eso serán los Módulos 8 y 9)\n",
    "- Datos no tabulares (ya habéis visto JSON en el Módulo 5, y en el Módulo 10 veréis datos geográficos)\n",
    "- Cómo conseguir que la administración suelte los datos que queremos (...)"
   ]
  },
  {
   "cell_type": "markdown",
   "id": "4926aacc",
   "metadata": {
    "slideshow": {
     "slide_type": "slide"
    }
   },
   "source": [
    "# Los datos\n",
    "\n",
    "Reuniones entre la Comisión Europea y lobbies que declararon tener interés en salud pública https://datos.civio.es/dataset/reuniones-entre-la-comision-europea-y-lobbies-que-declararon-tener-interes-en-salud-publica/\n",
    "\n",
    "- **Formato**: `CSV`\n",
    "- **Tamaño**: 2.6 MB\n",
    "- **Rango temporal**: 2014-11-13 a 2021-03-15\n",
    "\n",
    "![Civio](img/civio-portrait.png)\n",
    "\n",
    "<small>Apoyad a Civio, son mu majos</small>"
   ]
  },
  {
   "cell_type": "markdown",
   "id": "1b026920",
   "metadata": {
    "slideshow": {
     "slide_type": "subslide"
    }
   },
   "source": [
    "## La realidad\n",
    "\n",
    "| ![Most time consuming](img/most-time-consuming.jpg) | ![Least enjoyable](img/least-enjoyable.jpg) |\n",
    "|-----------------------------------------------------|---------------------------------------------|\n",
    "\n",
    "https://www.forbes.com/sites/gilpress/2016/03/23/data-preparation-most-time-consuming-least-enjoyable-data-science-task-survey-says/?sh=781bd4ff6f63"
   ]
  },
  {
   "cell_type": "markdown",
   "id": "71de97d9",
   "metadata": {
    "slideshow": {
     "slide_type": "subslide"
    }
   },
   "source": [
    "## Posibles preguntas\n",
    "\n",
    "- ¿Cuántas reuniones sobre el Mercado Único Europeo (DSM)?\n",
    "- ¿Cuántos temas contuvieron la palabra \"circular\"?\n",
    "- ¿Cuántos lobbies se reunieron sobre \"aviación\"?\n",
    "- ¿Cuántas reuniones fueron en Bruselas vs en remoto?\n",
    "- ¿Cuántas reuniones con Pfizer, Astra Zeneca, y Janssen? ¿Cuántas personas implicadas?\n",
    "- ¿Cuántas reuniones con la Agencia Europea del Medicamento (EMA) para la aprobación de vacunas?\n",
    "- ¿Cuántas reuniones para \"aligerar\" los procesos para aprobar el uso de ciertos medicamentos contra la COVID-19?\n",
    "- ¿Cuántas reuniones para fijación de precios (tanto de vacunas como de otros medicamentos)?\n",
    "- ¿Cuántas reuniones sobre opiáceos?\n",
    "- ¿Cuántas reuniones sobre salud mental?"
   ]
  },
  {
   "cell_type": "markdown",
   "id": "b952cd17",
   "metadata": {
    "slideshow": {
     "slide_type": "skip"
    }
   },
   "source": [
    "---"
   ]
  },
  {
   "cell_type": "markdown",
   "id": "65f9d67e",
   "metadata": {
    "slideshow": {
     "slide_type": "skip"
    }
   },
   "source": [
    "Empezamos por instalar los requisitos:"
   ]
  },
  {
   "cell_type": "code",
   "execution_count": null,
   "id": "a963a82b",
   "metadata": {
    "slideshow": {
     "slide_type": "skip"
    }
   },
   "outputs": [],
   "source": [
    "# %pip install -r requirements.in"
   ]
  }
 ],
 "metadata": {
  "celltoolbar": "Slideshow",
  "kernelspec": {
   "display_name": "Python 3 (ipykernel)",
   "language": "python",
   "name": "python3"
  },
  "language_info": {
   "codemirror_mode": {
    "name": "ipython",
    "version": 3
   },
   "file_extension": ".py",
   "mimetype": "text/x-python",
   "name": "python",
   "nbconvert_exporter": "python",
   "pygments_lexer": "ipython3",
   "version": "3.9.10"
  }
 },
 "nbformat": 4,
 "nbformat_minor": 5
}
